{
 "cells": [
  {
   "cell_type": "markdown",
   "metadata": {},
   "source": [
    "# Check Conda Env Name"
   ]
  },
  {
   "cell_type": "code",
   "execution_count": 1,
   "metadata": {},
   "outputs": [],
   "source": [
    "import sys\n",
    "sys.executable.split('/')[-3]"
   ]
  },
  {
   "cell_type": "markdown",
   "metadata": {},
   "source": [
    "# Result Filename"
   ]
  },
  {
   "cell_type": "code",
   "execution_count": 2,
   "metadata": {},
   "outputs": [],
   "source": [
    "result_filename='AWS_Results_CelebDPR.csv'"
   ]
  },
  {
   "cell_type": "markdown",
   "metadata": {},
   "source": [
    "# Imports"
   ]
  },
  {
   "cell_type": "code",
   "execution_count": 3,
   "metadata": {},
   "outputs": [],
   "source": [
    "import cv2\n",
    "import os\n",
    "import matplotlib.pyplot as plt\n",
    "import glob\n",
    "import time\n",
    "import gc\n",
    "import pandas as pd\n",
    "import numpy as np\n",
    "import boto3\n",
    "from PIL import Image\n",
    "import io\n",
    "import matplotlib.pyplot as plt\n",
    "import matplotlib.patches as patches\n",
    "from PIL import ImageDraw, ImageFont\n",
    "from glob import glob\n",
    "from pprint import pprint\n",
    "import pprint\n",
    "from difflib import SequenceMatcher\n",
    "\n",
    "import csv\n",
    "from time import sleep\n",
    "from glob import glob\n",
    "from pprint import pprint"
   ]
  },
  {
   "cell_type": "markdown",
   "metadata": {},
   "source": [
    "# Initialization"
   ]
  },
  {
   "cell_type": "code",
   "execution_count": 4,
   "metadata": {},
   "outputs": [],
   "source": [
    "BUCKET = \"amazon-rekognition\"\n",
    "KEY = \"search.jpg\"\n",
    "COLLECTION = \"my-collection-id\"\n",
    "\n",
    "ACCESS_ID = ''\n",
    "ACCESS_KEY = ''\n",
    "\n",
    "client=boto3.client('rekognition', region_name='ap-northeast-2', aws_access_key_id=ACCESS_ID, aws_secret_access_key=ACCESS_KEY)\n",
    "# rekognition = boto3.client('rekognition')\n",
    "\n",
    "# img_subtraction_folder = '/media/data2/dataset/DF/Fake_Localized'\n",
    "\n",
    "# if not os.path.exists(img_subtraction_folder):\n",
    "#     os.mkdir(img_subtraction_folder)"
   ]
  },
  {
   "cell_type": "markdown",
   "metadata": {},
   "source": [
    "# Methods"
   ]
  },
  {
   "cell_type": "code",
   "execution_count": 5,
   "metadata": {},
   "outputs": [],
   "source": [
    "def compare_faces(sourceFile, targetFile):\n",
    "    imageSource = open(sourceFile, 'rb')\n",
    "    imageTarget = open(targetFile, 'rb')\n",
    "    try:\n",
    "        response = client.compare_faces(SimilarityThreshold=0,\n",
    "                                    SourceImage={'Bytes': imageSource.read()},\n",
    "                                    TargetImage={'Bytes': imageTarget.read()})\n",
    "        for faceMatch in response['FaceMatches']:\n",
    "            similarity = str(faceMatch['Similarity'])\n",
    "            return similarity\n",
    "        return 0\n",
    "    except:\n",
    "        error = \"can't detect\"\n",
    "        return 0\n",
    "    f.close()\n",
    "    imageSource.close()\n",
    "    imageTarget.close()\n",
    "def recognize_celebrities(photo):\n",
    "    with open(photo, 'rb') as image:\n",
    "        response = client.recognize_celebrities(Image={'Bytes': image.read()})\n",
    "        for celebrity in response['CelebrityFaces']:\n",
    "            return celebrity['Name'],celebrity['MatchConfidence']\n",
    "        return \"\",\"\"\n",
    "def get_name(filename):\n",
    "    return os.path.splitext(os.path.basename(filename))[0].split(\"_\")[0]\n",
    "def get_name_tar(filename):\n",
    "    return os.path.basename(os.path.dirname(filename))"
   ]
  },
  {
   "cell_type": "code",
   "execution_count": null,
   "metadata": {},
   "outputs": [],
   "source": [
    "file=open(result_filename, 'w', newline='')\n",
    "writer = csv.writer(file)\n",
    "writer.writerow([\"Filename\", \"Src\",\"Tar\", \"Src Pred.\", \"Src Conf.\", \"Tar Pred.\",\"Tar Conf.\", \"Similarity\", ])\n",
    "file.close()"
   ]
  },
  {
   "cell_type": "code",
   "execution_count": 9,
   "metadata": {},
   "outputs": [],
   "source": [
    "actors_list=glob(\"/home/sha/project/adversarial_deepfake/src/Similarity/CelebDPR/fake/*\")\n",
    "count=0\n",
    "skip=0\n",
    "for actor in actors_list:\n",
    "    count+=1\n",
    "    if skip ==0:\n",
    "        if os.path.basename(actor) ==\"Sofía Vergara\":\n",
    "            skip=1\n",
    "        else:\n",
    "            continue\n",
    "#     print(os.path.basename(actor))\n",
    "#     break\n",
    "    real_image=os.path.join(\"/home/sha/project/adversarial_deepfake/src/Similarity/CelebDPR/real\",\n",
    "                                os.path.basename(actor)+\".jpg\")\n",
    "    fake_images_list=glob(os.path.join(actor,\"*\"))\n",
    "    print(real_image)    \n",
    "    result_real_pred,result_real_conf=recognize_celebrities(real_image)\n",
    "    src=get_name(real_image)\n",
    "    for fake_image in fake_images_list:\n",
    "        tar=get_name_tar(fake_image)\n",
    "        result_fake_pred,result_fake_conf=recognize_celebrities(fake_image)\n",
    "        similarity=compare_faces(real_image,fake_image)\n",
    "        print(src,os.path.basename(fake_image),result_fake_pred,result_fake_conf,similarity)\n",
    "        file=open(result_filename, 'a', newline='')\n",
    "        writer = csv.writer(file)\n",
    "        writer.writerow([fake_image,src,tar,\n",
    "              result_real_pred,result_real_conf,\n",
    "              result_fake_pred,result_fake_conf,\n",
    "              similarity])\n",
    "        file.close()\n",
    "print(\"Total:\",count)"
   ]
  },
  {
   "cell_type": "code",
   "execution_count": null,
   "metadata": {},
   "outputs": [],
   "source": []
  }
 ],
 "metadata": {
  "kernelspec": {
   "display_name": "Python 2",
   "language": "python",
   "name": "python2"
  },
  "language_info": {
   "codemirror_mode": {
    "name": "ipython",
    "version": 3
   },
   "file_extension": ".py",
   "mimetype": "text/x-python",
   "name": "python",
   "nbconvert_exporter": "python",
   "pygments_lexer": "ipython3",
   "version": "3.7.7"
  }
 },
 "nbformat": 4,
 "nbformat_minor": 4
}