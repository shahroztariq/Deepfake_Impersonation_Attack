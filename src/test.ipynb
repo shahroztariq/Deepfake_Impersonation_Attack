{
 "cells": [
  {
   "cell_type": "code",
   "execution_count": 18,
   "metadata": {
    "collapsed": true,
    "pycharm": {
     "is_executing": false
    }
   },
   "outputs": [],
   "source": [
    "#coding=utf-8\n",
    "# The ImageSyncScanRequest operation returns image moderation results in real time.\n",
    "from aliyunsdkcore import client\n",
    "from aliyunsdkgreen.request.v20180509 import ImageSyncScanRequest\n",
    "from aliyunsdkgreenextension.request.extension import HttpContentHelper\n",
    "import json\n",
    "import uuid\n",
    "from pprint import pprint\n",
    "\n",
    "# Use the AccessKey ID and AccessKey secret of your Alibaba Cloud account.\n",
    "clt = client.AcsClient(\"Your Credentials\", \"Your Credentials\",\"Your Credentials\")\n",
    "request = ImageSyncScanRequest.ImageSyncScanRequest()\n",
    "request.set_accept_format('JSON')\n",
    "task = {\n",
    "    \"dataId\": str(uuid.uuid1()),\n",
    "    \"url\": \"https://www.listchallenges.com/f/items/a59738a7-2b47-4b56-917e-e9faa2a8060f.jpg\",\n",
    "    \n",
    "    }\n",
    "\n",
    "# Create one task for each image to be moderated.\n",
    "# If you moderate multiple images in a request, the total response time that the server spends processing the request starts from when the request is initiated to when the last image is moderated.\n",
    "# Generally, the average response time of moderating multiple images in a request is longer than that of moderating a single image. The more images you submit at a time, the higher the probability that the average response time will be extended.\n",
    "# The sample code uses a single image as an example. If you want to moderate multiple images at a time, create one task for each image to be moderated.\n",
    "# The system charges you based on the moderation scenario that you specify.\n",
    "# You can send a request to moderate multiple images at a time and specify multiple moderation scenarios for each image. The expenses of all scenarios are calculated separately and summed up.\n",
    "# For example, if you moderate two images for both pornography and terrorist content, you are charged for moderating two images for pornography and two images for terrorist content.\n",
    "request.set_content(HttpContentHelper.toValue({\"tasks\": [task], \"scenes\": [\"porn\", \"terrorism\", \"ad\" ]}))\n",
    "response = clt.do_action_with_exception(request)\n",
    "print(response)\n",
    "result = json.loads(response)\n",
    "pprint(result)\n",
    "if 200 == result[\"code\"]:\n",
    "    taskResults = result[\"data\"]\n",
    "    for taskResult in taskResults:\n",
    "        if (200 == taskResult[\"code\"]):\n",
    "            sceneResults = taskResult[\"results\"]\n",
    "            for sceneResult in sceneResults:\n",
    "                scene = sceneResult[\"scene\"]\n",
    "                suggestion = sceneResult[\"suggestion\"]\n",
    "                # Take a further action on the image based on the values of the scene and suggestion parameters.\n",
    "                # do something\n",
    "                print(suggestion)\n",
    "                print(scene)\n"
   ]
  }
 ],
 "metadata": {
  "kernelspec": {
   "display_name": "Python 3",
   "language": "python",
   "name": "python3"
  },
  "language_info": {
   "codemirror_mode": {
    "name": "ipython",
    "version": 2
   },
   "file_extension": ".py",
   "mimetype": "text/x-python",
   "name": "python",
   "nbconvert_exporter": "python",
   "pygments_lexer": "ipython2",
   "version": "2.7.6"
  },
  "pycharm": {
   "stem_cell": {
    "cell_type": "raw",
    "source": [],
    "metadata": {
     "collapsed": false
    }
   }
  }
 },
 "nbformat": 4,
 "nbformat_minor": 0
}